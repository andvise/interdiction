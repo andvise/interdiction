{
 "cells": [
  {
   "cell_type": "code",
   "execution_count": 45,
   "metadata": {
    "collapsed": true
   },
   "outputs": [],
   "source": [
    "m = 10\n",
    "n = 10\n",
    "N = n * m + 2\n",
    "K = 1000\n",
    "a = (n - 2) * (5 * m - 4) + 5 * m - 2\n",
    "c = 10\n",
    "d = 10\n",
    "r = 5\n",
    "r0 = 20"
   ]
  },
  {
   "cell_type": "code",
   "execution_count": 46,
   "metadata": {
    "collapsed": true
   },
   "outputs": [],
   "source": [
    "def nodenr(x, y):\n",
    "    return m * (y - 1) + x + 1\n",
    "\n",
    "\n",
    "class Arc:\n",
    "\n",
    "    start = 0\n",
    "    end = 0\n",
    "    length = 0\n",
    "    disruption = 0\n",
    "    cost = 0"
   ]
  },
  {
   "cell_type": "code",
   "execution_count": 65,
   "metadata": {
    "collapsed": false
   },
   "outputs": [],
   "source": [
    "import random\n",
    "seed = 1234\n",
    "\n",
    "arcs = []\n",
    "random.seed(seed)\n",
    "for j in range(1, m + 1):\n",
    "    for i in range(1, n + 1):\n",
    "        if i + 1 <= n and j != 1 and j != m:\n",
    "            arc = Arc()\n",
    "            arc.start = nodenr(i, j)\n",
    "            arc.end = nodenr(i + 1, j)\n",
    "            arc.length = random.randint(1, c)\n",
    "            arc.disruption = random.randint(1, d)\n",
    "            arc.cost = random.randint(1, r)\n",
    "            arcs.append(arc)\n",
    "        if i - 1 > 0 and j != 1 and j != m:\n",
    "            arc = Arc()\n",
    "            arc.start = nodenr(i, j)\n",
    "            arc.end = nodenr(i - 1, j)\n",
    "            arc.length = random.randint(1, c)\n",
    "            arc.disruption = random.randint(1, d)\n",
    "            arc.cost = random.randint(1, r)\n",
    "            arcs.append(arc)\n",
    "        if j + 1 <= m:\n",
    "            arc = Arc()\n",
    "            arc.start = nodenr(i, j)\n",
    "            arc.end = nodenr(i, j + 1)\n",
    "            arc.length = random.randint(1, c)\n",
    "            arc.disruption = random.randint(1, d)\n",
    "            arc.cost = random.randint(1, r)\n",
    "            arcs.append(arc)\n",
    "        if j + 1 <= m and i + 1 <= n:\n",
    "            arc = Arc()\n",
    "            arc.start = nodenr(i, j)\n",
    "            arc.end = nodenr(i + 1, j + 1)\n",
    "            arc.length = random.randint(1, c)\n",
    "            arc.disruption = random.randint(1, d)\n",
    "            arc.cost = random.randint(1, r)\n",
    "            arcs.append(arc)\n",
    "        if j + 1 <= m and i - 1 > 0:\n",
    "            arc = Arc()\n",
    "            arc.start = nodenr(i, j)\n",
    "            arc.end = nodenr(i - 1, j + 1)\n",
    "            arc.length = random.randint(1, c)\n",
    "            arc.disruption = random.randint(1, d)\n",
    "            arc.cost = random.randint(1, r)\n",
    "            arcs.append(arc)\n",
    "            \n",
    "for i in range(1, m + 1):\n",
    "    arc = Arc()\n",
    "    arc.start = 1\n",
    "    arc.end = i + 1\n",
    "    arc.length = 0\n",
    "    arc.disruption = 0\n",
    "    arc.cost = 500\n",
    "    arcs.append(arc)\n",
    "    \n",
    "for i in range(1, m + 1):\n",
    "    arc = Arc()\n",
    "    arc.start = nodenr(i, n)\n",
    "    arc.end = N\n",
    "    arc.length = 0\n",
    "    arc.disruption = 0\n",
    "    arc.cost = 500\n",
    "    arcs.append(arc)"
   ]
  },
  {
   "cell_type": "code",
   "execution_count": 66,
   "metadata": {
    "collapsed": false
   },
   "outputs": [],
   "source": [
    "\n",
    "file = open(\"./testfile.dzn\", \"w+\")\n",
    "file.write(\"N = \" + str(N) + \";\\n\")\n",
    "file.write(\"K = \" + str(K) + \";\\n\")\n",
    "file.write(\"M = \" + str(a) + \";\\n\")\n",
    "file.write(\"R0 = \" + str(r0) + \";\\n\")\n",
    "file.write(\"Start = 1;\\n\")\n",
    "file.write(\"End = \" + str(N) + \";\\n\")\n",
    "\n",
    "line = \"Edge_Start =  [\"\n",
    "for i in arcs[:-1]:\n",
    "    line = line + str(i.start) + \" ,\"\n",
    "line = line + str(arcs[-1].start) + \"];\\n\"\n",
    "file.write(line)\n",
    "\n",
    "line = \"Edge_End =  [\"\n",
    "for i in arcs[:-1]:\n",
    "    line = line + str(i.end) + \" ,\"\n",
    "line = line + str(arcs[-1].end) + \"];\\n\"\n",
    "file.write(line)\n",
    "\n",
    "line = \"L =  [\"\n",
    "for i in arcs[:-1]:\n",
    "    line = line + str(i.length) + \" ,\"\n",
    "line = line + str(arcs[-1].length) + \"];\\n\"\n",
    "file.write(line)\n",
    "\n",
    "line = \"D =  [\"\n",
    "for i in arcs[:-1]:\n",
    "    line = line + str(i.disruption) + \" ,\"\n",
    "line = line + str(arcs[-1].disruption) + \"];\\n\"\n",
    "file.write(line)\n",
    "\n",
    "line = \"R =  [\"\n",
    "for i in arcs[:-1]:\n",
    "    line = line + str(i.cost) + \" ,\"\n",
    "line = line + str(arcs[-1].cost) + \"];\\n\"\n",
    "file.write(line)\n",
    "\n",
    "file.close()"
   ]
  },
  {
   "cell_type": "code",
   "execution_count": 68,
   "metadata": {
    "collapsed": false
   },
   "outputs": [
    {
     "name": "stdout",
     "output_type": "stream",
     "text": [
      "90\n",
      "100\n",
      "3\n",
      "6\n",
      "3\n",
      "90\n",
      "101\n",
      "5\n",
      "9\n",
      "4\n",
      "90\n",
      "99\n",
      "1\n",
      "9\n",
      "4\n",
      "91\n",
      "90\n",
      "1\n",
      "7\n",
      "1\n",
      "91\n",
      "101\n",
      "4\n",
      "2\n",
      "3\n",
      "91\n",
      "100\n",
      "3\n",
      "5\n",
      "5\n",
      "1\n",
      "2\n",
      "0\n",
      "0\n",
      "500\n",
      "1\n",
      "3\n",
      "0\n",
      "0\n",
      "500\n"
     ]
    }
   ],
   "source": [
    "for i in range(390, 398):\n",
    "    print(arcs[i].start)\n",
    "    print(arcs[i].end)\n",
    "    print(arcs[i].length)\n",
    "    print(arcs[i].disruption)\n",
    "    print(arcs[i].cost)\n"
   ]
  },
  {
   "cell_type": "code",
   "execution_count": 49,
   "metadata": {
    "collapsed": false
   },
   "outputs": [
    {
     "data": {
      "text/plain": [
       "416"
      ]
     },
     "execution_count": 49,
     "metadata": {},
     "output_type": "execute_result"
    }
   ],
   "source": [
    " a"
   ]
  },
  {
   "cell_type": "code",
   "execution_count": null,
   "metadata": {
    "collapsed": false
   },
   "outputs": [],
   "source": [
    "len(arcs+4)"
   ]
  },
  {
   "cell_type": "code",
   "execution_count": 6,
   "metadata": {
    "collapsed": false
   },
   "outputs": [
    {
     "ename": "AttributeError",
     "evalue": "'str' object has no attribute 'support_mzn'",
     "traceback": [
      "\u001b[0;31m---------------------------------------------------------------------------\u001b[0m",
      "\u001b[0;31mAttributeError\u001b[0m                            Traceback (most recent call last)",
      "\u001b[0;32m<ipython-input-6-b9b1f18c8a8e>\u001b[0m in \u001b[0;36m<module>\u001b[0;34m()\u001b[0m\n\u001b[1;32m      6\u001b[0m \u001b[0mpymzn\u001b[0m\u001b[0;34m.\u001b[0m\u001b[0mconfig\u001b[0m\u001b[0;34m.\u001b[0m\u001b[0mset\u001b[0m\u001b[0;34m(\u001b[0m\u001b[0;34m'solver'\u001b[0m\u001b[0;34m,\u001b[0m \u001b[0;34m'/Applications/MiniZincIDE.app/Contents/Resources/fzn-gecode'\u001b[0m\u001b[0;34m)\u001b[0m\u001b[0;34m\u001b[0m\u001b[0m\n\u001b[1;32m      7\u001b[0m \u001b[0;34m\u001b[0m\u001b[0m\n\u001b[0;32m----> 8\u001b[0;31m \u001b[0ms\u001b[0m \u001b[0;34m=\u001b[0m \u001b[0mpymzn\u001b[0m\u001b[0;34m.\u001b[0m\u001b[0mminizinc\u001b[0m\u001b[0;34m(\u001b[0m\u001b[0;34m'./shortest-path-dijkstra.mzn'\u001b[0m\u001b[0;34m,\u001b[0m \u001b[0;34m'./testfile.dzn'\u001b[0m\u001b[0;34m)\u001b[0m\u001b[0;34m\u001b[0m\u001b[0m\n\u001b[0m\u001b[1;32m      9\u001b[0m \u001b[0mprint\u001b[0m\u001b[0;34m(\u001b[0m\u001b[0ms\u001b[0m\u001b[0;34m)\u001b[0m\u001b[0;34m\u001b[0m\u001b[0m\n",
      "\u001b[0;32m/Users/avisentin/anaconda/lib/python3.6/site-packages/pymzn/mzn/minizinc.py\u001b[0m in \u001b[0;36mminizinc\u001b[0;34m(mzn, data, keep, include, solver, output_mode, output_vars, output_dir, timeout, all_solutions, num_solutions, force_flatten, args, wait, statistics, no_output_annotations, *dzn_files, **kwargs)\u001b[0m\n\u001b[1;32m    279\u001b[0m     force_flatten = (\n\u001b[1;32m    280\u001b[0m            \u001b[0mconfig\u001b[0m\u001b[0;34m.\u001b[0m\u001b[0mget\u001b[0m\u001b[0;34m(\u001b[0m\u001b[0;34m'force_flatten'\u001b[0m\u001b[0;34m,\u001b[0m \u001b[0mforce_flatten\u001b[0m\u001b[0;34m)\u001b[0m\u001b[0;34m\u001b[0m\u001b[0m\n\u001b[0;32m--> 281\u001b[0;31m         \u001b[0;32mor\u001b[0m \u001b[0;32mnot\u001b[0m \u001b[0msolver\u001b[0m\u001b[0;34m.\u001b[0m\u001b[0msupport_mzn\u001b[0m\u001b[0;34m\u001b[0m\u001b[0m\n\u001b[0m\u001b[1;32m    282\u001b[0m         \u001b[0;32mor\u001b[0m \u001b[0;34m(\u001b[0m\u001b[0m_output_mode\u001b[0m \u001b[0;32min\u001b[0m \u001b[0;34m[\u001b[0m\u001b[0;34m'dzn'\u001b[0m\u001b[0;34m,\u001b[0m \u001b[0;34m'json'\u001b[0m\u001b[0;34m]\u001b[0m \u001b[0;32mand\u001b[0m \u001b[0;32mnot\u001b[0m \u001b[0msolver\u001b[0m\u001b[0;34m.\u001b[0m\u001b[0msupport_output_mode\u001b[0m\u001b[0;34m)\u001b[0m\u001b[0;34m\u001b[0m\u001b[0m\n\u001b[1;32m    283\u001b[0m     )\n",
      "\u001b[0;31mAttributeError\u001b[0m: 'str' object has no attribute 'support_mzn'"
     ],
     "output_type": "error"
    }
   ],
   "source": [
    "import pymzn\n",
    "import pymzn.config\n",
    "\n",
    "pymzn.config.set('mzn2fzn', '/Applications/MiniZincIDE.app/Contents/Resources/mzn2fzn')\n",
    "pymzn.config.set('solns2out', '/Applications/MiniZincIDE.app/Contents/Resources/solns2out')\n",
    "pymzn.config.set('solver', '/Applications/MiniZincIDE.app/Contents/Resources/fzn-gecode')\n",
    "\n",
    "s = pymzn.minizinc('/Users/avisentin/AnacondaProjects/interdiction/shortest-path-dijkstra.mzn', '/Users/avisentin/AnacondaProjects/interdiction/testfile.dzn')\n",
    "print(s)"
   ]
  },
  {
   "cell_type": "code",
   "execution_count": null,
   "metadata": {
    "collapsed": true
   },
   "outputs": [],
   "source": []
  }
 ],
 "metadata": {
  "kernelspec": {
   "display_name": "Python 3",
   "language": "python",
   "name": "python3"
  },
  "language_info": {
   "codemirror_mode": {
    "name": "ipython",
    "version": 3
   },
   "file_extension": ".py",
   "mimetype": "text/x-python",
   "name": "python",
   "nbconvert_exporter": "python",
   "pygments_lexer": "ipython3",
   "version": "3.6.0"
  }
 },
 "nbformat": 4,
 "nbformat_minor": 2
}
